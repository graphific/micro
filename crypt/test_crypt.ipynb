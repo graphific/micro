{
 "cells": [
  {
   "cell_type": "code",
   "execution_count": 1,
   "metadata": {},
   "outputs": [],
   "source": [
    "#needs to be same between py and arduino"
   ]
  },
  {
   "cell_type": "code",
   "execution_count": 2,
   "metadata": {},
   "outputs": [],
   "source": [
    "import Crypto\n",
    "import Crypto.Random\n",
    "from Crypto.Cipher import AES\n",
    "\n",
    "def pad_data(data):\n",
    "    if len(data) % 16 == 0:\n",
    "        return data\n",
    "    databytes = bytearray(data)\n",
    "    padding_required = 15 - (len(databytes) % 16)\n",
    "    databytes.extend(b'\\x80')\n",
    "    databytes.extend(b'\\x00' * padding_required)\n",
    "    return bytes(databytes)\n",
    "\n",
    "def unpad_data(data):\n",
    "    if not data:\n",
    "        return data\n",
    "\n",
    "    data = data.rstrip(b'\\x00')\n",
    "    if data[-1] == 128: # b'\\x80'[0]:\n",
    "        return data[:-1]\n",
    "    else:\n",
    "        return data\n",
    "\n",
    "def generate_aes_key():\n",
    "    rnd = Crypto.Random.OSRNG.posix.new().read(AES.block_size)\n",
    "    return rnd\n",
    "\n",
    "def encrypt(key, iv, data):\n",
    "    aes = AES.new(key, AES.MODE_CBC, iv)\n",
    "    #data = pad_data(data) //diff padding py<>uno so make it always 16 or error (no padding)\n",
    "    return aes.encrypt(data)\n",
    "\n",
    "def decrypt(key, iv, data):\n",
    "    aes = AES.new(key, AES.MODE_CBC, iv)\n",
    "    data = aes.decrypt(data)\n",
    "    return data #unpad_data(data)"
   ]
  },
  {
   "cell_type": "code",
   "execution_count": 6,
   "metadata": {},
   "outputs": [],
   "source": [
    "def test_crypto ():\n",
    "    print(\"Same IVs same key:\")\n",
    "    \n",
    "    #key = generate_aes_key()\n",
    "    #print(key)\n",
    "   \n",
    "    key = [ 0,1,2,3,4,5,6,7,8,9,10,11,12,13,14,15 ]\n",
    "    key = bytes(key)\n",
    "    #iv = b\"1234567890123456\"\n",
    "    iv = [ 0,1,2,3,4,5,6,7,8,9,10,11,12,13,14,15 ]\n",
    "    iv = bytes(iv)\n",
    "\n",
    "    msg = b\"1234567891923454\"\n",
    "    code = encrypt(key, iv, msg)\n",
    "    print(code.hex())\n",
    "    decoded = decrypt(key, iv, code)\n",
    "    print(decoded)\n",
    "\n",
    "    code = encrypt(key, iv, msg)\n",
    "    print(code.hex())\n",
    "    decoded = decrypt(key, iv, code)\n",
    "    print(decoded)\n",
    "    \n",
    "    '''print(\"\")\n",
    "    print(\"Different IVs same key:\")\n",
    "    iv = generate_aes_key()\n",
    "    code = encrypt(key, iv, msg)\n",
    "    print(code.hex())\n",
    "    decoded = decrypt(key, iv, code)\n",
    "    print(decoded)\n",
    "\n",
    "    iv = generate_aes_key()\n",
    "    code = encrypt(key, iv, msg)\n",
    "    print(code.hex())\n",
    "    decoded = decrypt(key, iv, code)\n",
    "    print(decoded)'''"
   ]
  },
  {
   "cell_type": "code",
   "execution_count": 7,
   "metadata": {},
   "outputs": [
    {
     "name": "stdout",
     "output_type": "stream",
     "text": [
      "Same IVs same key:\n",
      "d695f98131c232e2e510b7b262950eab\n",
      "b'1234567891923454'\n",
      "d695f98131c232e2e510b7b262950eab\n",
      "b'1234567891923454'\n"
     ]
    }
   ],
   "source": [
    "test_crypto()"
   ]
  },
  {
   "cell_type": "markdown",
   "metadata": {},
   "source": [
    "Arduino\n",
    "#include <AESLib.h>\n",
    "\n",
    "uint8_t key[] = { 0, 1, 2, 3, 4, 5, 6, 7, 8, 9, 10, 11, 12, 13, 14, 15 };\n",
    "\n",
    "uint8_t iv[] = { 0, 1, 2, 3, 4, 5, 6, 7, 8, 9, 10, 11, 12, 13, 14, 15 };\n",
    "\n",
    "memcpy(data, \"1234567891923454\", 16);\n",
    "\n",
    "gives:\n",
    "    \n",
    "15:03:30.490 -> iv: 000102030405060708090A0B0C0D0E0F\n",
    "\n",
    "15:03:38.250 -> encrypted-cbc: D695F98131C232E2E510B7B262950EAB\n",
    "\n",
    "15:03:38.250 -> decrypted-cbc: 1234567891923454"
   ]
  },
  {
   "cell_type": "code",
   "execution_count": 9,
   "metadata": {},
   "outputs": [
    {
     "data": {
      "text/plain": [
       "'Yes D695F98131C232E2E510B7B262950EAB == d695f98131c232e2e510b7b262950eab'"
      ]
     },
     "execution_count": 9,
     "metadata": {},
     "output_type": "execute_result"
    }
   ],
   "source": [
    "'Yes D695F98131C232E2E510B7B262950EAB == d695f98131c232e2e510b7b262950eab'"
   ]
  },
  {
   "cell_type": "code",
   "execution_count": null,
   "metadata": {},
   "outputs": [],
   "source": []
  }
 ],
 "metadata": {
  "kernelspec": {
   "display_name": "Python 3",
   "language": "python",
   "name": "python3"
  },
  "language_info": {
   "codemirror_mode": {
    "name": "ipython",
    "version": 3
   },
   "file_extension": ".py",
   "mimetype": "text/x-python",
   "name": "python",
   "nbconvert_exporter": "python",
   "pygments_lexer": "ipython3",
   "version": "3.6.5"
  }
 },
 "nbformat": 4,
 "nbformat_minor": 2
}
